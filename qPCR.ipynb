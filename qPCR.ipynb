{
 "cells": [
  {
   "cell_type": "markdown",
   "metadata": {},
   "source": [
    "# qPCR on ChIPed chromatin\n",
    "\n",
    "\n",
    "\n",
    "\n",
    "\n",
    "You can test different DNA dilutions to come across the right Cq (20-22) or do like me and test 1/20 which in my opinion corresponded to a good approximation of reality.\n",
    "\n",
    "In theory the Cq of the Sampless should not differ from the Input more than a factor of 4, but I consider that we are OK if we stay in that range (avoid exceeding a Sample>30)\n",
    "\n",
    "\n",
    "* Q-PCR mix: \n",
    "    + 5μl of MasterMix \n",
    "    + 2μl H2O \n",
    "    + 1μl of primer mix 5μM \n",
    "    + 2μl of diluted DNA\n",
    "\n",
    "* For each pair of primers tested:\n",
    "\n",
    "    + Make a dilution range of 5 in 5 from a mixed of 1/20 DNA dilutions (Input+Sample), 3 points are enough. This curve makes it possible to determine the effectiveness of your primers and to detect if there are inhibitors.\n",
    "    + Test an Input 1/20 (normally it's the same for each antibody but you can test them all before selecting one).\n",
    "    + Test all Samples 1/20 (or adequate dilution)\n",
    "    + Make 2 wells without DNA = negative controls\n",
    "    + Make a plate reporter point (Known DNA concentration, always the same pair of antibodies between each plate)\n",
    "\n",
    "\n",
    "Make each point in triplicat (=9 wells for the efficiency range + 2 neg control wells + 3 Input wells + 3 Sample wells x the number of duplicate ChiP x the number of antibodies tested + 3 reporter wells)\n",
    "\n",
    "## Analysis of the results:\n",
    "\n",
    "\n",
    "Adjust the Cq of the input:\\\n",
    "Input=$\\frac{1}{10}$xSample\n",
    "\n",
    "Adjustment of the Cq_sample :\\\n",
    "$Cq_{adj} = Cq_{calc}-\\frac{ln(dilution factor)}{ln(E)}$\n",
    "\n",
    "Where E stands for the primer efficiency.\n",
    "\n",
    "\n",
    "Adjustment of the Cq_Input (for the same dilution in qPCR):\\\n",
    "$Cq_{adj} = Cq_{calc}-\\frac{ln(10)}{ln(E)}$\n",
    "\n",
    "\n",
    "For each Sample:\n",
    "\n",
    "%Input = $E^{Cq_Input-Cq_Sample}$"
   ]
  },
  {
   "cell_type": "code",
   "execution_count": null,
   "metadata": {},
   "outputs": [],
   "source": []
  },
  {
   "cell_type": "code",
   "execution_count": null,
   "metadata": {},
   "outputs": [],
   "source": []
  }
 ],
 "metadata": {
  "kernelspec": {
   "display_name": "Bash",
   "language": "bash",
   "name": "bash"
  },
  "language_info": {
   "codemirror_mode": "shell",
   "file_extension": ".sh",
   "mimetype": "text/x-sh",
   "name": "bash"
  }
 },
 "nbformat": 4,
 "nbformat_minor": 4
}
